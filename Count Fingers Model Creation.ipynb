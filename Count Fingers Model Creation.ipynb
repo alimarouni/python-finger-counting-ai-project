{
 "cells": [
  {
   "cell_type": "code",
   "metadata": {
    "ExecuteTime": {
     "end_time": "2024-05-06T12:54:01.206884Z",
     "start_time": "2024-05-06T12:53:54.427343Z"
    }
   },
   "source": [
    "from keras.models import Sequential\n",
    "from keras.layers import Conv2D,MaxPooling2D,Dense,Flatten,Dropout\n",
    "import matplotlib.pyplot as plt\n",
    "%matplotlib inline\n",
    "from keras.preprocessing.image import ImageDataGenerator\n",
    "from keras.models import model_from_json\n",
    "import numpy as np\n",
    "import cv2\n",
    "from keras.preprocessing import image"
   ],
   "outputs": [],
   "execution_count": 1
  },
  {
   "cell_type": "code",
   "metadata": {
    "ExecuteTime": {
     "end_time": "2024-05-06T12:54:01.349131Z",
     "start_time": "2024-05-06T12:54:01.206884Z"
    }
   },
   "source": [
    "classifier = Sequential()"
   ],
   "outputs": [],
   "execution_count": 2
  },
  {
   "cell_type": "code",
   "metadata": {
    "ExecuteTime": {
     "end_time": "2024-05-06T12:54:01.412739Z",
     "start_time": "2024-05-06T12:54:01.349131Z"
    }
   },
   "source": [
    "classifier.add(Conv2D(32,(3,3),activation='relu',input_shape=(64,64,3), padding = 'same'))"
   ],
   "outputs": [],
   "execution_count": 3
  },
  {
   "cell_type": "code",
   "metadata": {
    "ExecuteTime": {
     "end_time": "2024-05-06T12:54:01.428780Z",
     "start_time": "2024-05-06T12:54:01.412739Z"
    }
   },
   "source": [
    "classifier.add(MaxPooling2D(2,2))"
   ],
   "outputs": [],
   "execution_count": 4
  },
  {
   "cell_type": "code",
   "metadata": {
    "ExecuteTime": {
     "end_time": "2024-05-06T12:54:01.461132Z",
     "start_time": "2024-05-06T12:54:01.428780Z"
    }
   },
   "source": [
    "classifier.add(Conv2D(64,(3,3),activation='relu', padding = 'same'))\n",
    "classifier.add(MaxPooling2D(2,2))"
   ],
   "outputs": [],
   "execution_count": 5
  },
  {
   "cell_type": "code",
   "metadata": {
    "ExecuteTime": {
     "end_time": "2024-05-06T12:54:01.477005Z",
     "start_time": "2024-05-06T12:54:01.462458Z"
    }
   },
   "source": [
    "classifier.add(Flatten())"
   ],
   "outputs": [],
   "execution_count": 6
  },
  {
   "cell_type": "code",
   "metadata": {
    "ExecuteTime": {
     "end_time": "2024-05-06T12:54:01.567470Z",
     "start_time": "2024-05-06T12:54:01.477952Z"
    }
   },
   "source": [
    "classifier.add(Dense(512,activation='relu'))"
   ],
   "outputs": [],
   "execution_count": 7
  },
  {
   "cell_type": "code",
   "metadata": {
    "ExecuteTime": {
     "end_time": "2024-05-06T12:54:01.583377Z",
     "start_time": "2024-05-06T12:54:01.568977Z"
    }
   },
   "source": [
    "classifier.add(Dropout(0.2))"
   ],
   "outputs": [],
   "execution_count": 8
  },
  {
   "cell_type": "code",
   "metadata": {
    "ExecuteTime": {
     "end_time": "2024-05-06T12:54:01.615739Z",
     "start_time": "2024-05-06T12:54:01.583377Z"
    }
   },
   "source": [
    "classifier.add(Dense(6,activation='softmax'))"
   ],
   "outputs": [],
   "execution_count": 9
  },
  {
   "cell_type": "code",
   "metadata": {
    "ExecuteTime": {
     "end_time": "2024-05-06T12:54:01.631402Z",
     "start_time": "2024-05-06T12:54:01.617302Z"
    }
   },
   "source": [
    "classifier.compile(optimizer='adam',loss='categorical_crossentropy',metrics=['accuracy'])"
   ],
   "outputs": [],
   "execution_count": 10
  },
  {
   "cell_type": "code",
   "metadata": {
    "ExecuteTime": {
     "end_time": "2024-05-06T12:54:45.044098Z",
     "start_time": "2024-05-06T12:54:01.631402Z"
    }
   },
   "source": [
    "train_datagen = ImageDataGenerator(\n",
    "        rescale=1./255,\n",
    "        shear_range=0.2,\n",
    "        zoom_range=0.2,\n",
    "        horizontal_flip=True)\n",
    "\n",
    "test_datagen = ImageDataGenerator(rescale=1./255)\n",
    "\n",
    "train_generator = train_datagen.flow_from_directory(\n",
    "        r'C:\\Users\\alima\\PycharmProjects\\fngerCountingPrj\\fingercounting2\\images\\train',\n",
    "        target_size=(64, 64),\n",
    "        batch_size=32,\n",
    "        class_mode='categorical')\n",
    "\n",
    "validation_generator = test_datagen.flow_from_directory(\n",
    "        r'C:\\Users\\alima\\PycharmProjects\\fngerCountingPrj\\fingercounting2\\images\\test',\n",
    "        target_size=(64, 64),\n",
    "        batch_size=32,\n",
    "        class_mode='categorical')\n",
    "\n",
    "history =classifier.fit_generator(\n",
    "        train_generator,\n",
    "        steps_per_epoch=200,\n",
    "        epochs=40,\n",
    "        validation_data=validation_generator,\n",
    "        validation_steps=400)"
   ],
   "outputs": [
    {
     "name": "stdout",
     "output_type": "stream",
     "text": [
      "Found 9081 images belonging to 6 classes.\n",
      "Found 3632 images belonging to 6 classes.\n"
     ]
    },
    {
     "name": "stderr",
     "output_type": "stream",
     "text": [
      "C:\\Users\\alima\\AppData\\Local\\Temp\\ipykernel_26424\\4230177288.py:21: UserWarning: `Model.fit_generator` is deprecated and will be removed in a future version. Please use `Model.fit`, which supports generators.\n",
      "  history =classifier.fit_generator(\n"
     ]
    },
    {
     "name": "stdout",
     "output_type": "stream",
     "text": [
      "Epoch 1/4\n",
      " 284/2000 [===>..........................] - ETA: 3:28 - loss: 0.9881 - accuracy: 0.6199WARNING:tensorflow:Your input ran out of data; interrupting training. Make sure that your dataset or generator can generate at least `steps_per_epoch * epochs` batches (in this case, 8000 batches). You may need to use the repeat() function when building your dataset.\n",
      "WARNING:tensorflow:Your input ran out of data; interrupting training. Make sure that your dataset or generator can generate at least `steps_per_epoch * epochs` batches (in this case, 800 batches). You may need to use the repeat() function when building your dataset.\n",
      "2000/2000 [==============================] - 43s 21ms/step - loss: 0.9881 - accuracy: 0.6199 - val_loss: 0.4879 - val_accuracy: 0.8153\n"
     ]
    }
   ],
   "execution_count": 11
  },
  {
   "cell_type": "code",
   "metadata": {
    "ExecuteTime": {
     "end_time": "2024-05-06T12:54:45.188362Z",
     "start_time": "2024-05-06T12:54:45.044098Z"
    }
   },
   "source": [
    "model_json = classifier.to_json()\n",
    "with open(\"count_fingers.json\", \"w\") as json_file:\n",
    "    json_file.write(model_json)\n",
    "# serialize weights to HDF5\n",
    "classifier.save_weights(\"count_fingers.h5\")\n",
    "print(\"Saved model to disk\")"
   ],
   "outputs": [
    {
     "name": "stdout",
     "output_type": "stream",
     "text": [
      "Saved model to disk\n"
     ]
    }
   ],
   "execution_count": 12
  }
 ],
 "metadata": {
  "kernelspec": {
   "display_name": "Python 3",
   "language": "python",
   "name": "python3"
  },
  "language_info": {
   "codemirror_mode": {
    "name": "ipython",
    "version": 3
   },
   "file_extension": ".py",
   "mimetype": "text/x-python",
   "name": "python",
   "nbconvert_exporter": "python",
   "pygments_lexer": "ipython3",
   "version": "3.6.7"
  }
 },
 "nbformat": 4,
 "nbformat_minor": 2
}
